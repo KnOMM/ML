{
  "nbformat": 4,
  "nbformat_minor": 0,
  "metadata": {
    "colab": {
      "name": "lnu-summer-school-ml-master.ipynb",
      "provenance": [],
      "collapsed_sections": [],
      "include_colab_link": true
    },
    "kernelspec": {
      "name": "python3",
      "display_name": "Python 3"
    },
    "language_info": {
      "name": "python"
    }
  },
  "cells": [
    {
      "cell_type": "markdown",
      "metadata": {
        "id": "view-in-github",
        "colab_type": "text"
      },
      "source": [
        "<a href=\"https://colab.research.google.com/github/KnOMM/ML/blob/main/lnu_summer_school_ml_master.ipynb\" target=\"_parent\"><img src=\"https://colab.research.google.com/assets/colab-badge.svg\" alt=\"Open In Colab\"/></a>"
      ]
    },
    {
      "cell_type": "markdown",
      "source": [
        "# LNU AI Summer School 2022: Methods of supervised and unsupervised machine learning"
      ],
      "metadata": {
        "id": "fAlM83ySOdYN"
      }
    },
    {
      "cell_type": "markdown",
      "source": [
        "## Introduction\n",
        "\n",
        "This notebook will guide us through the main stages of any machine learning project, namely:\n",
        "- Data searching\n",
        "- Data processing and visualization\n",
        "- Model selection and initialization\n",
        "- Model training and evaluation\n",
        "\n",
        "This will be performed for a variety of supervised and unsupervised algorithms"
      ],
      "metadata": {
        "id": "Q7FYkioQOkuh"
      }
    },
    {
      "cell_type": "code",
      "source": [
        "# For visualization\n",
        "import matplotlib.pyplot as plt\n",
        "\n",
        "# For working with matrices, vectors and linear algebra operations\n",
        "import numpy as np\n",
        "\n",
        "# A library of ready-to-use datasets for simple ML examples\n",
        "from sklearn import datasets"
      ],
      "metadata": {
        "id": "VqIswT1cQMIU"
      },
      "execution_count": 1,
      "outputs": []
    },
    {
      "cell_type": "markdown",
      "source": [
        "## Supervised learning"
      ],
      "metadata": {
        "id": "UjShs65tO0eW"
      }
    },
    {
      "cell_type": "markdown",
      "source": [
        "### Linear Regression\n",
        "\n",
        "![](https://upload.wikimedia.org/wikipedia/commons/b/be/Normdist_regression.png)\n",
        "\n",
        "In statistics, linear regression is a linear approach for modelling the relationship between a scalar response and one or more explanatory variables. The case of one explanatory variable is called simple linear regression; for more than one, the process is called multiple linear regression (C) Wiki"
      ],
      "metadata": {
        "id": "gXP1m1w9O6BC"
      }
    },
    {
      "cell_type": "code",
      "source": [
        "from sklearn import linear_model\n",
        "\n",
        "# Metrics to assess the performance level of the model\n",
        "from sklearn.metrics import mean_squared_error, r2_score, accuracy_score"
      ],
      "metadata": {
        "id": "77YtfR7YOy71"
      },
      "execution_count": 2,
      "outputs": []
    },
    {
      "cell_type": "code",
      "source": [
        "# Load the diabetes dataset\n",
        "# Ten baseline variables (X): age, sex, body mass index, average blood pressure and six blood serum measurements  were obtained for \n",
        "# 442 diabetes patients, as well as the response of interest (y)\n",
        "# a quantitative measure of disease progression one year after baseline.\n",
        "\n",
        "diabetes = datasets.load_diabetes()\n",
        "\n",
        "diabetes_X, diabetes_y = diabetes.data, diabetes.target"
      ],
      "metadata": {
        "id": "FenL1DQlQf3T"
      },
      "execution_count": 3,
      "outputs": []
    },
    {
      "cell_type": "code",
      "source": [
        "print(f\"We have {len(diabetes_X)} data samples in general\")"
      ],
      "metadata": {
        "colab": {
          "base_uri": "https://localhost:8080/"
        },
        "id": "ZkwEzA8ZQjnI",
        "outputId": "a1134c94-dba3-4b38-a38f-a9baf2072341"
      },
      "execution_count": 4,
      "outputs": [
        {
          "output_type": "stream",
          "name": "stdout",
          "text": [
            "We have 442 data samples in general\n"
          ]
        }
      ]
    },
    {
      "cell_type": "code",
      "source": [
        "print(f\"Sample data {diabetes_X[0]}\")"
      ],
      "metadata": {
        "colab": {
          "base_uri": "https://localhost:8080/"
        },
        "id": "pFeTV_YVqArT",
        "outputId": "62580bc0-7419-4e68-8933-89585d8bec02"
      },
      "execution_count": 5,
      "outputs": [
        {
          "output_type": "stream",
          "name": "stdout",
          "text": [
            "Sample data [ 0.03807591  0.05068012  0.06169621  0.02187235 -0.0442235  -0.03482076\n",
            " -0.04340085 -0.00259226  0.01990842 -0.01764613]\n"
          ]
        }
      ]
    },
    {
      "cell_type": "code",
      "source": [
        "# Reserve some data for evaluation, use the rest for training\n",
        "\n",
        "# # #\n",
        "# Note: Try to change the parameters and see how does it\n",
        "# affect the model training\n",
        "\n",
        "train_fraction = 0.6 # (train_fraction * 100)% of data goes for training\n",
        "test_fraction = 1 - train_fraction # The rest goes for evaluation\n",
        "\n",
        "# # #\n",
        "\n",
        "\n",
        "train_idx_end = int(len(diabetes_X) * train_fraction)\n",
        "\n",
        "# Split the data into training/testing sets\n",
        "diabetes_X_train = diabetes_X[:train_idx_end]\n",
        "diabetes_X_test = diabetes_X[train_idx_end:]\n",
        "\n",
        "# Split the targets into training/testing sets\n",
        "diabetes_y_train = diabetes_y[:train_idx_end]\n",
        "diabetes_y_test = diabetes_y[train_idx_end:]"
      ],
      "metadata": {
        "id": "Kz_TBk3MRDIC"
      },
      "execution_count": 26,
      "outputs": []
    },
    {
      "cell_type": "code",
      "source": [
        "# Create an \"empty\" linear regression model \n",
        "lr_model = linear_model.LinearRegression()\n",
        "\n",
        "\n",
        "# # #\n",
        "# Note: Try to use other algorithms and compare\n",
        "# them to the classical linear regression\n",
        "# Also, you can try to change their parameters and see\n",
        "# how it affects the performance of the model\n",
        "\n",
        "\n",
        "# Ridge regression is a method of estimating the coefficients of \n",
        "# multiple-regression models in scenarios where linearly independent variables \n",
        "# are highly correlated. It has been used in many fields \n",
        "# including econometrics, chemistry, and engineering.\n",
        "# lr_model = linear_model.Ridge()\n",
        "\n",
        "\n",
        "# In statistics and machine learning, lasso (least absolute shrinkage and \n",
        "# selection operator; also Lasso or LASSO) is a regression analysis method that \n",
        "# performs both variable selection and *regularization* in order to enhance the \n",
        "# prediction accuracy and interpretability of the resulting statistical model.\n",
        "# lr_model = linear_model.Lasso()\n",
        "\n",
        "\n",
        "# Check other models here: \n",
        "# https://scikit-learn.org/stable/modules/classes.html#module-sklearn.linear_model\n",
        "\n",
        "# # #"
      ],
      "metadata": {
        "id": "hIcIJmaERaGh"
      },
      "execution_count": 27,
      "outputs": []
    },
    {
      "cell_type": "code",
      "source": [
        "# Train the model using the training sets\n",
        "lr_model.fit(diabetes_X_train, diabetes_y_train)"
      ],
      "metadata": {
        "colab": {
          "base_uri": "https://localhost:8080/"
        },
        "id": "AQJXI_usRoN4",
        "outputId": "c1fc3613-a2bf-4303-da8b-4321502d166e"
      },
      "execution_count": 28,
      "outputs": [
        {
          "output_type": "execute_result",
          "data": {
            "text/plain": [
              "LinearRegression()"
            ]
          },
          "metadata": {},
          "execution_count": 28
        }
      ]
    },
    {
      "cell_type": "code",
      "source": [
        "# Make predictions using the testing set\n",
        "diabetes_y_pred = lr_model.predict(diabetes_X_test)"
      ],
      "metadata": {
        "id": "qIxljIPRRrlK"
      },
      "execution_count": 29,
      "outputs": []
    },
    {
      "cell_type": "code",
      "source": [
        "# The coefficients\n",
        "print(\"Weights: \\n\", lr_model.coef_)\n",
        "\n",
        "# The mean squared error (MSE)\n",
        "print(\"Mean squared error: %.2f\" % mean_squared_error(diabetes_y_test, diabetes_y_pred))\n",
        "\n",
        "# The coefficient of determination: 1 is perfect prediction\n",
        "# R2 score denotes the proportion of the variance in the dependent variable \n",
        "# that is predictable from the independent variable\n",
        "print(\"Coefficient of determination: %.2f\" % r2_score(diabetes_y_test, diabetes_y_pred))"
      ],
      "metadata": {
        "colab": {
          "base_uri": "https://localhost:8080/"
        },
        "id": "V7GCG7MmRuK4",
        "outputId": "8c3c3002-a6db-43d1-b52e-5524dce9b1c6"
      },
      "execution_count": 30,
      "outputs": [
        {
          "output_type": "stream",
          "name": "stdout",
          "text": [
            "Weights: \n",
            " [ -86.29259893 -211.08490843  566.55345535  232.49398063 -655.77679204\n",
            "  235.48781498  130.97970252  226.70661728  730.06817463  171.008519  ]\n",
            "Mean squared error: 3085.38\n",
            "Coefficient of determination: 0.47\n"
          ]
        }
      ]
    },
    {
      "cell_type": "code",
      "source": [
        "# Plot outputs\n",
        "idx = np.random.choice(np.arange(len(diabetes_y_test)), 30, replace=False)\n",
        "print(f\"Generated a subsample with indicies\\n{idx}\") \n",
        "\n",
        "plt.figure(figsize = (16, 7))\n",
        "plt.plot(list(range(len(idx))), diabetes_y_test[idx], color=\"red\")\n",
        "plt.plot(list(range(len(idx))), diabetes_y_pred[idx], color=\"blue\")\n",
        "\n",
        "plt.scatter(list(range(len(idx))), diabetes_y_test[idx], color=\"red\", label = \"Expected values\")\n",
        "plt.scatter(list(range(len(idx))), diabetes_y_pred[idx], color=\"blue\", label = \"Predictions\")\n",
        "\n",
        "plt.xticks(())\n",
        "plt.ylabel(\"RoI (Response of Interest)\", size = 14)\n",
        "plt.legend()\n",
        "plt.title(\"Linear Regression predictions vs. expected ground truth\", size = 16)\n",
        "\n",
        "plt.show()"
      ],
      "metadata": {
        "colab": {
          "base_uri": "https://localhost:8080/",
          "height": 351
        },
        "id": "i0j7iML3RyYZ",
        "outputId": "3a142a44-8438-40db-9b2e-4b417d526aef"
      },
      "execution_count": 19,
      "outputs": [
        {
          "output_type": "stream",
          "name": "stdout",
          "text": [
            "Generated a subsample with indicies\n",
            "[ 84 147 156  74  81  68  46 131 111  69  66 174 148 140   3  39  93  54\n",
            "  78 142  72 114 155 150 112  79  42 176 143 157]\n"
          ]
        },
        {
          "output_type": "display_data",
          "data": {
            "text/plain": [
              "<Figure size 1152x504 with 1 Axes>"
            ],
            "image/png": "[encoded data removed]"
          },
          "metadata": {
            "needs_background": "light"
          }
        }
      ]
    },
    {
      "cell_type": "markdown",
      "source": [
        "### Logistic Regression for Digit Recognition"
      ],
      "metadata": {
        "id": "7RTLQF3kVT-K"
      }
    },
    {
      "cell_type": "code",
      "source": [
        "from sklearn.datasets import load_digits"
      ],
      "metadata": {
        "id": "ixCr-OXuSCYW"
      },
      "execution_count": 12,
      "outputs": []
    },
    {
      "cell_type": "code",
      "source": [
        "# Load dataset for digit classification problem\n",
        "digits_data = load_digits()\n",
        "digits_X, digits_y = digits_data.data, digits_data.target"
      ],
      "metadata": {
        "id": "slT4x7xtTJda"
      },
      "execution_count": 13,
      "outputs": []
    },
    {
      "cell_type": "code",
      "source": [
        "print(f\"We have {len(digits_X)} data samples in general\")"
      ],
      "metadata": {
        "colab": {
          "base_uri": "https://localhost:8080/"
        },
        "id": "FDMLf1Afqt1T",
        "outputId": "9f408345-fe03-4e55-aabc-a9ad252c133a"
      },
      "execution_count": 14,
      "outputs": [
        {
          "output_type": "stream",
          "name": "stdout",
          "text": [
            "We have 1797 data samples in general\n"
          ]
        }
      ]
    },
    {
      "cell_type": "code",
      "source": [
        "plt.figure(figsize=(20,4))\n",
        "\n",
        "for index, (image, label) in enumerate(zip(digits_data.data[0:5], digits_data.target[0:5])):\n",
        "  plt.subplot(1, 5, index + 1)\n",
        "  plt.imshow(np.reshape(image, (8,8)), cmap=plt.cm.gray)\n",
        "  plt.xticks([])\n",
        "  plt.yticks([])"
      ],
      "metadata": {
        "colab": {
          "base_uri": "https://localhost:8080/",
          "height": 137
        },
        "id": "HUJo1tBrqxXa",
        "outputId": "8df90643-429c-4273-d115-57d4f3a77262"
      },
      "execution_count": 15,
      "outputs": [
        {
          "output_type": "display_data",
          "data": {
            "text/plain": [
              "<Figure size 1440x288 with 5 Axes>"
            ],
            "image/png": "[encoded data removed]"
          },
          "metadata": {}
        }
      ]
    },
    {
      "cell_type": "code",
      "source": [
        "# Reserve some data for evaluation, use the rest for training\n",
        "\n",
        "# # #\n",
        "# Note: Try to change the parameters and see how does it\n",
        "# affect the model training\n",
        "\n",
        "train_fraction = 0.85 # (train_fraction * 100)% of data goes for training\n",
        "test_fraction = 1 - train_fraction # The rest goes for evaluation\n",
        "\n",
        "# # #\n",
        "\n",
        "\n",
        "train_idx_end = int(len(digits_X) * train_fraction)"
      ],
      "metadata": {
        "id": "PFeX-dcrrJiY"
      },
      "execution_count": 31,
      "outputs": []
    },
    {
      "cell_type": "code",
      "source": [
        "# Split the data into training/testing sets\n",
        "digits_X_train = digits_X[:train_idx_end]\n",
        "digits_X_test = digits_X[train_idx_end:]\n",
        "\n",
        "# Split the targets into training/testing sets\n",
        "digits_y_train = digits_y[:train_idx_end]\n",
        "digits_y_test = digits_y[train_idx_end:]"
      ],
      "metadata": {
        "id": "NKhP9aAfrRZV"
      },
      "execution_count": 32,
      "outputs": []
    },
    {
      "cell_type": "code",
      "source": [
        "# # #\n",
        "# Note: Try to change the parameters and see how does it\n",
        "# affect the model training\n",
        "# To learn more about the parameters check documentation\n",
        "# https://scikit-learn.org/stable/modules/generated/sklearn.linear_model.LogisticRegression.html\n",
        "\n",
        "penalty_method = 'l1' # Possible: l1, l2, elasticnet\n",
        "regularization_value = 1.0 # Inverse of regularization strength; must be a positive float. Smaller values specify stronger regularization.\n",
        "solver = 'liblinear' # Pay attention to compatibility, check docs\n",
        "max_iter = 100\n",
        "\n",
        "# # #"
      ],
      "metadata": {
        "id": "J7_N7vUUr6rf"
      },
      "execution_count": 33,
      "outputs": []
    },
    {
      "cell_type": "code",
      "source": [
        "# Load and initialize the model\n",
        "\n",
        "from sklearn.linear_model import LogisticRegression\n",
        "\n",
        "\n",
        "log_r_model = LogisticRegression(penalty = penalty_method,\n",
        "                                 C = regularization_value,\n",
        "                                 solver = solver,\n",
        "                                 max_iter = max_iter)"
      ],
      "metadata": {
        "id": "28vtktf6rnsv"
      },
      "execution_count": 34,
      "outputs": []
    },
    {
      "cell_type": "code",
      "source": [
        "log_r_model.fit(digits_X_train, digits_y_train)"
      ],
      "metadata": {
        "colab": {
          "base_uri": "https://localhost:8080/"
        },
        "id": "5xgis0c0rvPK",
        "outputId": "f2a77907-2017-4d5e-a55c-fa6c5db239c0"
      },
      "execution_count": 35,
      "outputs": [
        {
          "output_type": "execute_result",
          "data": {
            "text/plain": [
              "LogisticRegression(penalty='l1', solver='liblinear')"
            ]
          },
          "metadata": {},
          "execution_count": 35
        }
      ]
    },
    {
      "cell_type": "code",
      "source": [
        "# Make predictions using the testing set\n",
        "digits_y_pred = log_r_model.predict(digits_X_test)"
      ],
      "metadata": {
        "id": "EPf3hJy0tujh"
      },
      "execution_count": 36,
      "outputs": []
    },
    {
      "cell_type": "code",
      "source": [
        "# Calculate error metric, in this case it's accuracy\n",
        "# Accuracy denots the fraction of correct predictions\n",
        "# to the general amount of predictions\n",
        "score = log_r_model.score(digits_X_test, digits_y_test)\n",
        "print(f\"Accuracy: {str(round(score * 100, 2))}%\")"
      ],
      "metadata": {
        "colab": {
          "base_uri": "https://localhost:8080/"
        },
        "id": "24VsxidAlbgi",
        "outputId": "c85c6733-a3c6-4c5c-bfb3-c73c51e2ba2c"
      },
      "execution_count": 37,
      "outputs": [
        {
          "output_type": "stream",
          "name": "stdout",
          "text": [
            "Accuracy: 89.63%\n"
          ]
        }
      ]
    },
    {
      "cell_type": "code",
      "source": [
        "idx = np.random.randint(0, len(digits_X_test))\n",
        "\n",
        "plt.imshow(np.reshape(digits_X_test[idx], (8,8)), cmap=plt.cm.gray)\n",
        "plt.title(f\"Real: {digits_y_test[idx]}. Predicted: {digits_y_pred[idx]}\")\n",
        "plt.xticks([])\n",
        "plt.yticks([])\n",
        "plt.show()"
      ],
      "metadata": {
        "colab": {
          "base_uri": "https://localhost:8080/",
          "height": 268
        },
        "id": "3gXXz3dQ5T_B",
        "outputId": "c1b1dbc8-2d77-4ee3-e092-8c465ee531f0"
      },
      "execution_count": 48,
      "outputs": [
        {
          "output_type": "display_data",
          "data": {
            "text/plain": [
              "<Figure size 432x288 with 1 Axes>"
            ],
            "image/png": "[encoded data removed]"
          },
          "metadata": {}
        }
      ]
    },
    {
      "cell_type": "code",
      "source": [
        "import seaborn as sns\n",
        "from sklearn.metrics import confusion_matrix"
      ],
      "metadata": {
        "id": "AZOOTGa_6E8H"
      },
      "execution_count": 49,
      "outputs": []
    },
    {
      "cell_type": "code",
      "source": [
        "cm = confusion_matrix(digits_y_test, digits_y_pred)"
      ],
      "metadata": {
        "id": "OlpbHM246IE4"
      },
      "execution_count": 50,
      "outputs": []
    },
    {
      "cell_type": "code",
      "source": [
        "plt.figure(figsize=(9,9))\n",
        "sns.heatmap(cm, annot=True, linewidths=.5, square = True, cmap = 'Blues_r');\n",
        "plt.ylabel('Actual label');\n",
        "plt.xlabel('Predicted label');\n",
        "all_sample_title = 'Accuracy Score: {0}%'.format(str(round(score * 100, 2)))\n",
        "plt.title(all_sample_title, size = 15);"
      ],
      "metadata": {
        "colab": {
          "base_uri": "https://localhost:8080/",
          "height": 526
        },
        "id": "nymkK3zw6PWf",
        "outputId": "96b51ff5-9e2e-451d-8a01-cb38c12172e7"
      },
      "execution_count": 51,
      "outputs": [
        {
          "output_type": "display_data",
          "data": {
            "text/plain": [
              "<Figure size 648x648 with 2 Axes>"
            ],
            "image/png": "[encoded data removed]"
          },
          "metadata": {
            "needs_background": "light"
          }
        }
      ]
    },
    {
      "cell_type": "markdown",
      "source": [
        "### K-Nearest Neighbours (kNN)\n",
        "\n",
        "KNN can be summarized as below:\n",
        "\n",
        "- Computes the distance between the new data point with every training example.\n",
        "- For computing the distance measures such as Euclidean distance, Hamming distance or Manhattan distance will be used.\n",
        "- Model picks K entries in the database which are closest to the new data point.\n",
        "- Then it does the majority vote i.e the most common class/label among those K entries will be the class of the new data point.\n",
        "\n",
        "Sanjay"
      ],
      "metadata": {
        "id": "uVqWb6ghmaOt"
      }
    },
    {
      "cell_type": "code",
      "source": [
        "# Load the dataset for classification, we will use so-called Iris dataset\n",
        "# Iris dataset has 50 samples for each different species of Iris flower(total of 150). \n",
        "# For each sample we have sepal length, width and petal length and width and a species name(class/label).\n",
        "\n",
        "from sklearn.datasets import load_iris"
      ],
      "metadata": {
        "id": "264b5AQrlphD"
      },
      "execution_count": null,
      "outputs": []
    },
    {
      "cell_type": "code",
      "source": [
        "iris = load_iris()"
      ],
      "metadata": {
        "id": "J73xc22dnDr6"
      },
      "execution_count": null,
      "outputs": []
    },
    {
      "cell_type": "code",
      "source": [
        "iris_X, iris_y = iris.data, iris.target\n",
        "print(f\"We have {len(iris_X)} data samples\")"
      ],
      "metadata": {
        "colab": {
          "base_uri": "https://localhost:8080/"
        },
        "id": "0gmH-pplnFxd",
        "outputId": "f1c571fb-e103-4d18-f737-c55b347a0391"
      },
      "execution_count": null,
      "outputs": [
        {
          "output_type": "stream",
          "name": "stdout",
          "text": [
            "We have 150 data samples\n"
          ]
        }
      ]
    },
    {
      "cell_type": "code",
      "source": [
        "print(f\"Possible labels: {np.unique(iris_y)}\")"
      ],
      "metadata": {
        "colab": {
          "base_uri": "https://localhost:8080/"
        },
        "id": "TnI0MeF57DE7",
        "outputId": "c4677f92-47d9-428f-c47d-4d291d0cf3da"
      },
      "execution_count": null,
      "outputs": [
        {
          "output_type": "stream",
          "name": "stdout",
          "text": [
            "Possible labels: [0 1 2]\n"
          ]
        }
      ]
    },
    {
      "cell_type": "code",
      "source": [
        "# Reserve some data for evaluation, use the rest for training\n",
        "\n",
        "# # #\n",
        "# Note: Try to change the parameters and see how does it\n",
        "# affect the model training\n",
        "\n",
        "train_fraction = 0.85 # (train_fraction * 100)% of data goes for training\n",
        "test_fraction = 1 - train_fraction # The rest goes for evaluation\n",
        "k = 3\n",
        "weights = 'uniform' # Possible: 'uniform, 'distance' \n",
        "# 'uniform' : uniform weights. All points in each neighborhood are weighted equally.\n",
        "# 'distance' : weight points by the inverse of their distance. in this case, \n",
        "# closer neighbors of a query point will have a greater influence than neighbors which are further away.\n",
        "\n",
        "\n",
        "# # #\n",
        "\n",
        "\n",
        "train_idx_end = int(len(iris_X) * train_fraction)"
      ],
      "metadata": {
        "id": "fuuKYRcaoiuM"
      },
      "execution_count": null,
      "outputs": []
    },
    {
      "cell_type": "code",
      "source": [
        "# Split the data into training/testing sets\n",
        "iris_X_train = iris_X[:train_idx_end]\n",
        "iris_X_test = iris_X[train_idx_end:]\n",
        "\n",
        "# Split the targets into training/testing sets\n",
        "iris_y_train = iris_y[:train_idx_end]\n",
        "iris_y_test = iris_y[train_idx_end:]"
      ],
      "metadata": {
        "id": "uFPzzaBfoj4H"
      },
      "execution_count": null,
      "outputs": []
    },
    {
      "cell_type": "code",
      "source": [
        "from sklearn.neighbors import KNeighborsClassifier"
      ],
      "metadata": {
        "id": "y6N4RX90nKdE"
      },
      "execution_count": null,
      "outputs": []
    },
    {
      "cell_type": "code",
      "source": [
        "# Load and initialize the model\n",
        "knn = KNeighborsClassifier(n_neighbors=k, weights = weights)"
      ],
      "metadata": {
        "id": "e2DcoNTUoFgI"
      },
      "execution_count": null,
      "outputs": []
    },
    {
      "cell_type": "code",
      "source": [
        "knn.fit(iris_X_train, iris_y_train)"
      ],
      "metadata": {
        "colab": {
          "base_uri": "https://localhost:8080/"
        },
        "id": "BHmdVaZQofVV",
        "outputId": "af7b89b7-9db3-49d7-c23f-5ec5f75c43f9"
      },
      "execution_count": null,
      "outputs": [
        {
          "output_type": "execute_result",
          "data": {
            "text/plain": [
              "KNeighborsClassifier(n_neighbors=3)"
            ]
          },
          "metadata": {},
          "execution_count": 40
        }
      ]
    },
    {
      "cell_type": "code",
      "source": [
        "# Make predictions using the testing set\n",
        "iris_y_pred = knn.predict(iris_X_test)"
      ],
      "metadata": {
        "id": "VFyo0B8FovaF"
      },
      "execution_count": null,
      "outputs": []
    },
    {
      "cell_type": "code",
      "source": [
        "# Calculate error metric, in this case it's accuracy\n",
        "# Accuracy denots the fraction of correct predictions\n",
        "# to the general amount of predictions\n",
        "score = knn.score(iris_X_test, iris_y_test)\n",
        "print(f\"Accuracy: {str(round(score * 100, 2))}%\")"
      ],
      "metadata": {
        "colab": {
          "base_uri": "https://localhost:8080/"
        },
        "id": "q7IxBocmpfXq",
        "outputId": "96a19f01-5f60-4557-9006-b1a66140b840"
      },
      "execution_count": null,
      "outputs": [
        {
          "output_type": "stream",
          "name": "stdout",
          "text": [
            "Accuracy: 91.3%\n"
          ]
        }
      ]
    },
    {
      "cell_type": "markdown",
      "source": [
        "## Unsupervised learning"
      ],
      "metadata": {
        "id": "bPi2rYci3KrV"
      }
    },
    {
      "cell_type": "markdown",
      "source": [
        "### Principal Component Analysis\n",
        "\n",
        "Principal component analysis, or PCA, is a statistical procedure that allows you to summarize the information content in large data tables by means of a smaller set of “summary indices” that can be more easily visualized and analyzed.\n",
        "\n",
        "Wiki"
      ],
      "metadata": {
        "id": "l9efzi_t9qtp"
      }
    },
    {
      "cell_type": "code",
      "source": [
        "from sklearn.datasets import load_digits\n",
        "\n",
        "# Load dataset for digit classification problem\n",
        "digits_data = load_digits()\n",
        "digits_X, digits_y = digits_data.data, digits_data.target"
      ],
      "metadata": {
        "id": "yGDYEdkK91RL"
      },
      "execution_count": null,
      "outputs": []
    },
    {
      "cell_type": "code",
      "source": [
        "print(f\"We have {len(digits_X)} data samples in general\")"
      ],
      "metadata": {
        "colab": {
          "base_uri": "https://localhost:8080/"
        },
        "id": "NhdLi92m97h9",
        "outputId": "efd1d968-9f74-4156-bbb1-03878310e1c2"
      },
      "execution_count": null,
      "outputs": [
        {
          "output_type": "stream",
          "name": "stdout",
          "text": [
            "We have 1797 data samples in general\n"
          ]
        }
      ]
    },
    {
      "cell_type": "code",
      "source": [
        "(n_samples, n_features), n_digits = digits_X.shape, np.unique(digits_y).size\n",
        "print(f\"# digits: {n_digits}; # samples: {n_samples}; # features {n_features}\")"
      ],
      "metadata": {
        "colab": {
          "base_uri": "https://localhost:8080/"
        },
        "id": "XU-NM41U9_C-",
        "outputId": "adbb3675-5da9-4fe2-b011-f0905895e972"
      },
      "execution_count": null,
      "outputs": [
        {
          "output_type": "stream",
          "name": "stdout",
          "text": [
            "# digits: 10; # samples: 1797; # features 64\n"
          ]
        }
      ]
    },
    {
      "cell_type": "code",
      "source": [
        "from sklearn.decomposition import PCA"
      ],
      "metadata": {
        "id": "ELl8g4fT-Giq"
      },
      "execution_count": null,
      "outputs": []
    },
    {
      "cell_type": "code",
      "source": [
        "# PCA will allow us to project high-dimensional data into lower dimensions\n",
        "# for training and visualization convenience\n",
        "pca = PCA(n_components=n_digits).fit(digits_X)"
      ],
      "metadata": {
        "id": "3Uk6jYHH-HTV"
      },
      "execution_count": null,
      "outputs": []
    },
    {
      "cell_type": "markdown",
      "source": [
        "### K-Means Clustering "
      ],
      "metadata": {
        "id": "HNVP2btK3ODM"
      }
    },
    {
      "cell_type": "code",
      "source": [
        "# # #\n",
        "# Note: Try to change the parameters and see how does it\n",
        "# affect the model training\n",
        "# To learn more about the parameters check documentation\n",
        "# https://scikit-learn.org/stable/modules/generated/sklearn.cluster.KMeans.html\n",
        "init = 'k-means++' # Options are 'random' (selected from data) and 'k-means++'\n",
        "n_init = 10 # Number of times k-Means will be run with different centroids initialized\n",
        "max_iter = 150\n",
        " \n",
        "# # #"
      ],
      "metadata": {
        "id": "Fa7Vjun43oBr"
      },
      "execution_count": null,
      "outputs": []
    },
    {
      "cell_type": "code",
      "source": [
        "from sklearn.cluster import KMeans"
      ],
      "metadata": {
        "id": "8q2tGa8a4on4"
      },
      "execution_count": null,
      "outputs": []
    },
    {
      "cell_type": "code",
      "source": [
        "# Standard\n",
        "k_means = KMeans(n_clusters = n_digits,\n",
        "                 init = init, \n",
        "                 n_init = n_init,\n",
        "                 max_iter = max_iter)\n",
        "\n",
        "\n",
        "# Reduced data version\n",
        "# k_means = KMeans(n_clusters = n_digits,\n",
        "#                  init = pca.components_, \n",
        "#                  n_init = 1,\n",
        "#                  max_iter = max_iter)"
      ],
      "metadata": {
        "id": "HB3bgNWA4csN"
      },
      "execution_count": null,
      "outputs": []
    },
    {
      "cell_type": "code",
      "source": [
        "k_means.fit(digits_X)"
      ],
      "metadata": {
        "colab": {
          "base_uri": "https://localhost:8080/"
        },
        "id": "JD_M0ShP45D1",
        "outputId": "e2002381-0071-40bd-eb26-ebc30e4dd1e4"
      },
      "execution_count": null,
      "outputs": [
        {
          "output_type": "execute_result",
          "data": {
            "text/plain": [
              "KMeans(max_iter=150, n_clusters=10)"
            ]
          },
          "metadata": {},
          "execution_count": 51
        }
      ]
    },
    {
      "cell_type": "code",
      "source": [
        "digits_y_pred = k_means.predict(digits_X)"
      ],
      "metadata": {
        "id": "Dw0_vm-Z47cM"
      },
      "execution_count": null,
      "outputs": []
    },
    {
      "cell_type": "code",
      "source": [
        "idx = np.random.randint(0, len(digits_X))\n",
        "\n",
        "plt.imshow(np.reshape(digits_X[idx], (8,8)), cmap=plt.cm.gray)\n",
        "plt.title(f\"Real: {digits_y[idx]}. Predicted: {digits_y_pred[idx]}\")\n",
        "plt.xticks([])\n",
        "plt.yticks([])\n",
        "plt.show()"
      ],
      "metadata": {
        "colab": {
          "base_uri": "https://localhost:8080/",
          "height": 268
        },
        "id": "ze6w5GSx8Sv3",
        "outputId": "77c2237a-260d-432d-c46f-60d0c9650938"
      },
      "execution_count": null,
      "outputs": [
        {
          "output_type": "display_data",
          "data": {
            "text/plain": [
              "<Figure size 432x288 with 1 Axes>"
            ],
            "image/png": "[encoded data removed]"
          },
          "metadata": {}
        }
      ]
    },
    {
      "cell_type": "code",
      "source": [
        "import matplotlib.pyplot as plt\n",
        "\n",
        "reduced_data = PCA(n_components=2).fit_transform(digits_X)\n",
        "kmeans = KMeans(init=\"k-means++\", n_clusters=n_digits, n_init=4)\n",
        "kmeans.fit(reduced_data)\n",
        "\n",
        "# Step size of the mesh. Decrease to increase the quality of the VQ.\n",
        "h = 0.02  # point in the mesh [x_min, x_max]x[y_min, y_max].\n",
        "\n",
        "# Plot the decision boundary. For that, we will assign a color to each\n",
        "x_min, x_max = reduced_data[:, 0].min() - 1, reduced_data[:, 0].max() + 1\n",
        "y_min, y_max = reduced_data[:, 1].min() - 1, reduced_data[:, 1].max() + 1\n",
        "xx, yy = np.meshgrid(np.arange(x_min, x_max, h), np.arange(y_min, y_max, h))\n",
        "\n",
        "# Obtain labels for each point in mesh. Use last trained model.\n",
        "Z = kmeans.predict(np.c_[xx.ravel(), yy.ravel()])\n",
        "\n",
        "# Put the result into a color plot\n",
        "Z = Z.reshape(xx.shape)\n",
        "\n",
        "plt.figure(figsize = (16, 6))\n",
        "plt.clf()\n",
        "plt.imshow(\n",
        "    Z,\n",
        "    interpolation=\"nearest\",\n",
        "    extent=(xx.min(), xx.max(), yy.min(), yy.max()),\n",
        "    cmap=plt.cm.Paired,\n",
        "    aspect=\"auto\",\n",
        "    origin=\"lower\",\n",
        ")\n",
        "\n",
        "plt.plot(reduced_data[:, 0], reduced_data[:, 1], \"k.\", markersize=2)\n",
        "# Plot the centroids as a white X\n",
        "centroids = kmeans.cluster_centers_\n",
        "plt.scatter(\n",
        "    centroids[:, 0],\n",
        "    centroids[:, 1],\n",
        "    marker=\"x\",\n",
        "    s=169,\n",
        "    linewidths=3,\n",
        "    color=\"w\",\n",
        "    zorder=10,\n",
        ")\n",
        "plt.title(\n",
        "    \"K-means clustering on the digits dataset (PCA-reduced data)\\n\"\n",
        "    \"Centroids are marked with white cross\"\n",
        ")\n",
        "plt.xlim(x_min, x_max)\n",
        "plt.ylim(y_min, y_max)\n",
        "plt.xticks(())\n",
        "plt.yticks(())\n",
        "plt.show()"
      ],
      "metadata": {
        "colab": {
          "base_uri": "https://localhost:8080/",
          "height": 392
        },
        "id": "CKbCokkN8s9c",
        "outputId": "9f2872bb-2881-4b56-e031-1e67def2f785"
      },
      "execution_count": null,
      "outputs": [
        {
          "output_type": "display_data",
          "data": {
            "text/plain": [
              "<Figure size 1152x432 with 1 Axes>"
            ],
            "image/png": "[encoded data removed]"
          },
          "metadata": {}
        }
      ]
    },
    {
      "cell_type": "markdown",
      "source": [
        "### Neural Networks"
      ],
      "metadata": {
        "id": "9k7ctXXhCDM9"
      }
    },
    {
      "cell_type": "code",
      "source": [
        "import tensorflow as tf\n",
        "print(\"TensorFlow version:\", tf.__version__)"
      ],
      "metadata": {
        "colab": {
          "base_uri": "https://localhost:8080/"
        },
        "id": "ZwXHVeTTCF8G",
        "outputId": "b6c89fbb-8c87-4003-a5c3-abf5716f7d1d"
      },
      "execution_count": null,
      "outputs": [
        {
          "output_type": "stream",
          "name": "stdout",
          "text": [
            "TensorFlow version: 2.8.2\n"
          ]
        }
      ]
    },
    {
      "cell_type": "code",
      "source": [
        "mnist = tf.keras.datasets.mnist\n",
        "\n",
        "(x_train, y_train), (x_test, y_test) = mnist.load_data()"
      ],
      "metadata": {
        "colab": {
          "base_uri": "https://localhost:8080/"
        },
        "id": "_mZZvzDXCJrr",
        "outputId": "48268f94-f06b-49a4-8c8c-55719e0f862e"
      },
      "execution_count": null,
      "outputs": [
        {
          "output_type": "stream",
          "name": "stdout",
          "text": [
            "Downloading data from https://storage.googleapis.com/tensorflow/tf-keras-datasets/mnist.npz\n",
            "11493376/11490434 [==============================] - 0s 0us/step\n",
            "11501568/11490434 [==============================] - 0s 0us/step\n"
          ]
        }
      ]
    },
    {
      "cell_type": "code",
      "source": [
        "# Normalize RGB images by dividing each channel by the max. value of R, G, B range\n",
        "x_train, x_test = x_train / 255.0, x_test / 255.0"
      ],
      "metadata": {
        "id": "09rlGdFBCfbW"
      },
      "execution_count": null,
      "outputs": []
    },
    {
      "cell_type": "code",
      "source": [
        "model = tf.keras.models.Sequential([\n",
        "  tf.keras.layers.Flatten(input_shape=(28, 28)), # Transforms input image (28, 28) into a vector\n",
        "  tf.keras.layers.Dense(128, activation='relu'), # Fully-connected layer with 128 neurons \n",
        "  # tf.keras.layers.Dropout(0.2),  # Dropout is used to help the model during training by adding some uncertainty\n",
        "  tf.keras.layers.Dense(10) # Fully-connected layer, each neuron outputs the probability of the image containint a digit (0-9)\n",
        "])"
      ],
      "metadata": {
        "id": "oaQQIIT0ClQj"
      },
      "execution_count": null,
      "outputs": []
    },
    {
      "cell_type": "code",
      "source": [
        "# Define loss function (error calculation to help the model find the unknown function f(x))\n",
        "loss_fn = tf.keras.losses.SparseCategoricalCrossentropy(from_logits=True) # Categorial error, we have 10 categories (classes)"
      ],
      "metadata": {
        "id": "i-A5YX0YDBkS"
      },
      "execution_count": null,
      "outputs": []
    },
    {
      "cell_type": "code",
      "source": [
        "model.compile(optimizer='adam',\n",
        "              loss=loss_fn,\n",
        "              metrics=['accuracy'])"
      ],
      "metadata": {
        "id": "eKMT5G1NDIRM"
      },
      "execution_count": null,
      "outputs": []
    },
    {
      "cell_type": "code",
      "source": [
        "model.fit(x_train, y_train, epochs=5)"
      ],
      "metadata": {
        "colab": {
          "base_uri": "https://localhost:8080/"
        },
        "id": "xh5zV2OyDPTd",
        "outputId": "8d3467de-ac77-4c31-89ff-6487e075ce7a"
      },
      "execution_count": null,
      "outputs": [
        {
          "output_type": "stream",
          "name": "stdout",
          "text": [
            "Epoch 1/5\n",
            "1875/1875 [==============================] - 6s 3ms/step - loss: 0.2621 - accuracy: 0.9240\n",
            "Epoch 2/5\n",
            "1875/1875 [==============================] - 4s 2ms/step - loss: 0.1153 - accuracy: 0.9658\n",
            "Epoch 3/5\n",
            "1875/1875 [==============================] - 4s 2ms/step - loss: 0.0789 - accuracy: 0.9762\n",
            "Epoch 4/5\n",
            "1875/1875 [==============================] - 4s 2ms/step - loss: 0.0583 - accuracy: 0.9820\n",
            "Epoch 5/5\n",
            "1875/1875 [==============================] - 4s 2ms/step - loss: 0.0443 - accuracy: 0.9864\n"
          ]
        },
        {
          "output_type": "execute_result",
          "data": {
            "text/plain": [
              "<keras.callbacks.History at 0x7f4726318210>"
            ]
          },
          "metadata": {},
          "execution_count": 62
        }
      ]
    },
    {
      "cell_type": "code",
      "source": [
        "model.evaluate(x_test,  y_test, verbose=2)"
      ],
      "metadata": {
        "colab": {
          "base_uri": "https://localhost:8080/"
        },
        "id": "cjhVFHfRDV8d",
        "outputId": "cbe80ba5-e3a9-441e-c880-b63b6be0da6f"
      },
      "execution_count": null,
      "outputs": [
        {
          "output_type": "stream",
          "name": "stdout",
          "text": [
            "313/313 - 1s - loss: 0.0719 - accuracy: 0.9777 - 520ms/epoch - 2ms/step\n"
          ]
        },
        {
          "output_type": "execute_result",
          "data": {
            "text/plain": [
              "[0.07192297279834747, 0.9776999950408936]"
            ]
          },
          "metadata": {},
          "execution_count": 63
        }
      ]
    },
    {
      "cell_type": "markdown",
      "source": [
        "## Additional resources"
      ],
      "metadata": {
        "id": "IqI2jR1J_g2Z"
      }
    },
    {
      "cell_type": "markdown",
      "source": [
        "**Regression**:\n",
        "- Lasso (https://scikit-learn.org/stable/modules/generated/sklearn.linear_model.Lasso.html) \n",
        "- Ridge (https://scikit-learn.org/stable/modules/generated/sklearn.linear_model.Ridge.html)\n",
        "\n",
        "Understand how to select type of regression, based on your data and data properties.\n",
        "\n"
      ],
      "metadata": {
        "id": "9ecOMrO4_kVk"
      }
    },
    {
      "cell_type": "markdown",
      "source": [
        "**Clustering**\n",
        "\n",
        "- Mean-Shift(https://scikit-learn.org/stable/modules/clustering.html#mean-shift)\n",
        "- DBSCAN (https://scikit-learn.org/stable/modules/clustering.html#dbscan) \n",
        "- Mixture of Gaussians (https://scikit-learn.org/stable/modules/mixture.html#mixture)\n"
      ],
      "metadata": {
        "id": "MZUBukMVDkEo"
      }
    },
    {
      "cell_type": "markdown",
      "source": [
        "TensorFlow 2 guide for beginners\n",
        "https://www.tensorflow.org/tutorials/quickstart/beginner\n",
        "\n",
        "TensorFlow 2 tutorials\n",
        "https://www.tensorflow.org/tutorials\n",
        "\n",
        "Supervised ML Course\n",
        "https://www.coursera.org/learn/machine-learning"
      ],
      "metadata": {
        "id": "vT4IsjpVD_wg"
      }
    },
    {
      "cell_type": "markdown",
      "source": [
        "Deeper dive into ML concepts, how the algorithms are derived, loss functions (more Calculus and LinAlg)\n",
        "https://www.deeplearning.ai/courses/machine-learning-specialization/\n",
        "\n",
        "Training and penalizing ML models\n",
        "https://developers.google.com/machine-learning/crash-course/descending-into-ml/training-and-loss"
      ],
      "metadata": {
        "id": "0HGLwFtDIc9m"
      }
    },
    {
      "cell_type": "code",
      "source": [
        ""
      ],
      "metadata": {
        "id": "Nbar0y8wPyZk"
      },
      "execution_count": null,
      "outputs": []
    }
  ]
}